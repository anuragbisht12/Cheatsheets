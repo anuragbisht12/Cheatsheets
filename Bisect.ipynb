{
  "nbformat": 4,
  "nbformat_minor": 0,
  "metadata": {
    "colab": {
      "name": "Bisect.ipynb",
      "provenance": [],
      "authorship_tag": "ABX9TyNLQ5+BGOL8xylqGknZpsk2",
      "include_colab_link": true
    },
    "kernelspec": {
      "name": "python3",
      "display_name": "Python 3"
    }
  },
  "cells": [
    {
      "cell_type": "markdown",
      "metadata": {
        "id": "view-in-github",
        "colab_type": "text"
      },
      "source": [
        "<a href=\"https://colab.research.google.com/github/anuragbisht12/Cheatsheets/blob/master/Bisect.ipynb\" target=\"_parent\"><img src=\"https://colab.research.google.com/assets/colab-badge.svg\" alt=\"Open In Colab\"/></a>"
      ]
    },
    {
      "cell_type": "code",
      "metadata": {
        "id": "BXr5icl1dl2j",
        "colab_type": "code",
        "colab": {}
      },
      "source": [
        "from bisect import bisect,bisect_left,bisect_right,insort,insort_left,insort_right\n",
        "li = [1, 3, 4, 4, 4, 6, 7] "
      ],
      "execution_count": 0,
      "outputs": []
    },
    {
      "cell_type": "code",
      "metadata": {
        "id": "p0tl9rI_eCIR",
        "colab_type": "code",
        "colab": {
          "base_uri": "https://localhost:8080/",
          "height": 50
        },
        "outputId": "4936bdbc-03fb-41c1-9998-154a82a23529"
      },
      "source": [
        "# using bisect() to find index to insert new element\n",
        "print(bisect(li,2))\n",
        "print(bisect(li,4))"
      ],
      "execution_count": 13,
      "outputs": [
        {
          "output_type": "stream",
          "text": [
            "1\n",
            "5\n"
          ],
          "name": "stdout"
        }
      ]
    },
    {
      "cell_type": "code",
      "metadata": {
        "id": "tk3L6-JxeM1H",
        "colab_type": "code",
        "colab": {
          "base_uri": "https://localhost:8080/",
          "height": 34
        },
        "outputId": "df4e5e23-5a8a-4f8d-98a6-f762964bdb7b"
      },
      "source": [
        "# using bisect_left() to find index to insert new element\n",
        "print(bisect_left(li,4))"
      ],
      "execution_count": 11,
      "outputs": [
        {
          "output_type": "stream",
          "text": [
            "2\n"
          ],
          "name": "stdout"
        }
      ]
    },
    {
      "cell_type": "code",
      "metadata": {
        "id": "u7cKZI5bfIfH",
        "colab_type": "code",
        "colab": {
          "base_uri": "https://localhost:8080/",
          "height": 34
        },
        "outputId": "6db5e5cc-4235-437b-f4b0-2ba836a9af04"
      },
      "source": [
        "# using bisect_right() to find index to insert new element\n",
        "print(bisect_right(li,4))"
      ],
      "execution_count": 14,
      "outputs": [
        {
          "output_type": "stream",
          "text": [
            "5\n"
          ],
          "name": "stdout"
        }
      ]
    },
    {
      "cell_type": "code",
      "metadata": {
        "id": "hps_DrcljVIO",
        "colab_type": "code",
        "colab": {
          "base_uri": "https://localhost:8080/",
          "height": 34
        },
        "outputId": "27c871a5-cea7-4097-99cd-c33361a06429"
      },
      "source": [
        "#using insort to insert at position\n",
        "li2 = [1, 3, 4, 4, 4, 6, 7]\n",
        "insort(li2,3)\n",
        "print(li2)"
      ],
      "execution_count": 19,
      "outputs": [
        {
          "output_type": "stream",
          "text": [
            "[1, 3, 3, 4, 4, 4, 6, 7]\n"
          ],
          "name": "stdout"
        }
      ]
    },
    {
      "cell_type": "code",
      "metadata": {
        "id": "mup3ncmNjtjI",
        "colab_type": "code",
        "colab": {
          "base_uri": "https://localhost:8080/",
          "height": 34
        },
        "outputId": "4bdf1ae8-b175-4437-ad35-794c0dfa8c97"
      },
      "source": [
        "#using insort to insert at position\n",
        "li2 = [1, 3, 4, 4, 4, 6, 7]\n",
        "insort_left(li2,2)\n",
        "print(li2)"
      ],
      "execution_count": 21,
      "outputs": [
        {
          "output_type": "stream",
          "text": [
            "[1, 2, 3, 4, 4, 4, 6, 7]\n"
          ],
          "name": "stdout"
        }
      ]
    },
    {
      "cell_type": "code",
      "metadata": {
        "id": "eA98YWArkLR9",
        "colab_type": "code",
        "colab": {
          "base_uri": "https://localhost:8080/",
          "height": 34
        },
        "outputId": "0746f76f-d5ee-448b-86b5-7f6b454469e8"
      },
      "source": [
        "#using insort to insert at position\n",
        "li2 = [1, 3, 4, 4, 4, 6, 7]\n",
        "insort_right(li2,2)\n",
        "print(li2)"
      ],
      "execution_count": 22,
      "outputs": [
        {
          "output_type": "stream",
          "text": [
            "[1, 2, 3, 4, 4, 4, 6, 7]\n"
          ],
          "name": "stdout"
        }
      ]
    }
  ]
}