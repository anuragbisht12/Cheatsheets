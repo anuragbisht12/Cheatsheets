{
  "nbformat": 4,
  "nbformat_minor": 0,
  "metadata": {
    "colab": {
      "name": "Python datatable.ipynb",
      "provenance": [],
      "authorship_tag": "ABX9TyNaGPFQUpEEYmcqsA7Cq6ti",
      "include_colab_link": true
    },
    "kernelspec": {
      "name": "python3",
      "display_name": "Python 3"
    }
  },
  "cells": [
    {
      "cell_type": "markdown",
      "metadata": {
        "id": "view-in-github",
        "colab_type": "text"
      },
      "source": [
        "<a href=\"https://colab.research.google.com/github/anuragbisht12/Cheatsheets/blob/master/Python_datatable.ipynb\" target=\"_parent\"><img src=\"https://colab.research.google.com/assets/colab-badge.svg\" alt=\"Open In Colab\"/></a>"
      ]
    },
    {
      "cell_type": "code",
      "metadata": {
        "id": "GbvR56umdvzT",
        "colab_type": "code",
        "colab": {}
      },
      "source": [
        "!pip install datatable"
      ],
      "execution_count": 0,
      "outputs": []
    },
    {
      "cell_type": "code",
      "metadata": {
        "id": "CaBCXSefc1Gw",
        "colab_type": "code",
        "colab": {
          "base_uri": "https://localhost:8080/",
          "height": 50
        },
        "outputId": "5b1f9d14-256e-4169-839a-bce30c296073"
      },
      "source": [
        "import pandas as pd\n",
        "%timeit df=pd.read_csv('sample_data/california_housing_test.csv')"
      ],
      "execution_count": 1,
      "outputs": [
        {
          "output_type": "stream",
          "text": [
            "The slowest run took 4.84 times longer than the fastest. This could mean that an intermediate result is being cached.\n",
            "100 loops, best of 3: 5.93 ms per loop\n"
          ],
          "name": "stdout"
        }
      ]
    },
    {
      "cell_type": "code",
      "metadata": {
        "id": "3PA3FZAjdZ8r",
        "colab_type": "code",
        "colab": {}
      },
      "source": [
        "import datatable as dt\n",
        "df=dt.fread('sample_data/california_housing_test.csv')"
      ],
      "execution_count": 0,
      "outputs": []
    },
    {
      "cell_type": "code",
      "metadata": {
        "id": "oLNyRxzceBSu",
        "colab_type": "code",
        "colab": {
          "base_uri": "https://localhost:8080/",
          "height": 34
        },
        "outputId": "7cdebc5b-900a-437b-aa19-a0f0f3dd43f9"
      },
      "source": [
        "df.shape"
      ],
      "execution_count": 12,
      "outputs": [
        {
          "output_type": "execute_result",
          "data": {
            "text/plain": [
              "(3000, 9)"
            ]
          },
          "metadata": {
            "tags": []
          },
          "execution_count": 12
        }
      ]
    }
  ]
}