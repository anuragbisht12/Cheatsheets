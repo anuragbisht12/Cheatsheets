{
  "nbformat": 4,
  "nbformat_minor": 0,
  "metadata": {
    "colab": {
      "name": "Job Scheduler.ipynb",
      "provenance": [],
      "authorship_tag": "ABX9TyPYkCi6Jq09/YfliZbkRvWo",
      "include_colab_link": true
    },
    "kernelspec": {
      "name": "python3",
      "display_name": "Python 3"
    }
  },
  "cells": [
    {
      "cell_type": "markdown",
      "metadata": {
        "id": "view-in-github",
        "colab_type": "text"
      },
      "source": [
        "<a href=\"https://colab.research.google.com/github/anuragbisht12/Cheatsheets/blob/master/Job_Scheduler.ipynb\" target=\"_parent\"><img src=\"https://colab.research.google.com/assets/colab-badge.svg\" alt=\"Open In Colab\"/></a>"
      ]
    },
    {
      "cell_type": "code",
      "metadata": {
        "id": "VTaUrNUMlJhJ",
        "colab_type": "code",
        "colab": {}
      },
      "source": [
        "from time import sleep\n",
        "import threading\n",
        "\n",
        "class Scheduler:\n",
        "    def __init__(self):\n",
        "        self.fns = [] # tuple of (fn, time)\n",
        "        t = threading.Thread(target=self.poll)\n",
        "        t.start()\n",
        "\n",
        "    def poll(self):\n",
        "        while True:\n",
        "            now = time() * 1000\n",
        "            for fn, due in self.fns:\n",
        "                if now > due:\n",
        "                    fn()\n",
        "            self.fns = [(fn, due) for (fn, due) in self.fns if due > now]\n",
        "            sleep(0.01)\n",
        "\n",
        "    def delay(self, f, n):\n",
        "        self.fns.append((f, time() * 1000 + n))"
      ],
      "execution_count": 0,
      "outputs": []
    }
  ]
}